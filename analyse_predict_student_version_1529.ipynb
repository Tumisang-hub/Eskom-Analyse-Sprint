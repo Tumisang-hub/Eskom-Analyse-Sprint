{
  "nbformat": 4,
  "nbformat_minor": 0,
  "metadata": {
    "colab": {
      "name": "analyse_predict_student_version-1529.ipynb",
      "provenance": [],
      "toc_visible": true,
      "include_colab_link": true
    },
    "kernelspec": {
      "display_name": "Python 3",
      "language": "python",
      "name": "python3"
    },
    "language_info": {
      "codemirror_mode": {
        "name": "ipython",
        "version": 3
      },
      "file_extension": ".py",
      "mimetype": "text/x-python",
      "name": "python",
      "nbconvert_exporter": "python",
      "pygments_lexer": "ipython3",
      "version": "3.7.1"
    }
  },
  "cells": [
    {
      "cell_type": "markdown",
      "metadata": {
        "id": "view-in-github",
        "colab_type": "text"
      },
      "source": [
        "<a href=\"https://colab.research.google.com/github/Tumisang-hub/Eskom-Analyse-Sprint/blob/master/analyse_predict_student_version_1529.ipynb\" target=\"_parent\"><img src=\"https://colab.research.google.com/assets/colab-badge.svg\" alt=\"Open In Colab\"/></a>"
      ]
    },
    {
      "cell_type": "markdown",
      "metadata": {
        "colab_type": "text",
        "id": "k3iztl7u3gwD"
      },
      "source": [
        "# Analyse - Predict\n",
        "\n",
        "Functions are important in reducing the replication of code as well as giving the user the functionality of getting an ouput on varying inputs. The functions you will write all use Eskom data/variables.\n",
        "\n",
        "## Instructions to Students\n",
        "- **Do not add or remove cells in this notebook. Do not edit or remove the `### START FUNCTION` or `### END FUNCTION` comments. Do not add any code outside of the functions you are required to edit. Doing any of this will lead to a mark of 0%!**\n",
        "- Answer the questions according to the specifications provided.\n",
        "- Use the given cell in each question to to see if your function matches the expected outputs.\n",
        "- Do not hard-code answers to the questions.\n",
        "- The use of stackoverflow, google, and other online tools are permitted. However, copying fellow student's code is not permissible and is considered a breach of the Honour code. Doing this will result in a mark of 0%.\n",
        "- Good luck, and may the force be with you!"
      ]
    },
    {
      "cell_type": "markdown",
      "metadata": {
        "id": "34X7nrCZnErz",
        "colab_type": "text"
      },
      "source": [
        "## Imports"
      ]
    },
    {
      "cell_type": "code",
      "metadata": {
        "colab_type": "code",
        "id": "KDEvrdUcva3a",
        "colab": {}
      },
      "source": [
        "import pandas as pd\n",
        "import numpy as np"
      ],
      "execution_count": 0,
      "outputs": []
    },
    {
      "cell_type": "markdown",
      "metadata": {
        "id": "fHv5yLLnnEr6",
        "colab_type": "text"
      },
      "source": [
        "## Data Loading and Preprocessing"
      ]
    },
    {
      "cell_type": "markdown",
      "metadata": {
        "id": "P_zwyIN2nEr7",
        "colab_type": "text"
      },
      "source": [
        "### Electricification by province (EBP) data"
      ]
    },
    {
      "cell_type": "code",
      "metadata": {
        "id": "1mAi2dB7nEr-",
        "colab_type": "code",
        "outputId": "c62586ca-ff6b-43eb-e569-3ca8f952d362",
        "colab": {
          "base_uri": "https://localhost:8080/",
          "height": 368
        }
      },
      "source": [
        "ebp_url = 'https://raw.githubusercontent.com/Explore-AI/academy-content/master/courses/data-science/fundamentals/analyse/predict/data/electrification_by_province.csv?token=AONJI6P3AI6HFYIHHVX2FDK6IKGFU'\n",
        "ebp_df = pd.read_csv(ebp_url)\n",
        "\n",
        "for col, row in ebp_df.iloc[:,1:].iteritems():\n",
        "    ebp_df[col] = ebp_df[col].str.replace(',','').astype(int)\n",
        "\n",
        "ebp_df.head()"
      ],
      "execution_count": 10,
      "outputs": [
        {
          "output_type": "error",
          "ename": "HTTPError",
          "evalue": "ignored",
          "traceback": [
            "\u001b[0;31m---------------------------------------------------------------------------\u001b[0m",
            "\u001b[0;31mHTTPError\u001b[0m                                 Traceback (most recent call last)",
            "\u001b[0;32m<ipython-input-10-3d24d6aa744b>\u001b[0m in \u001b[0;36m<module>\u001b[0;34m()\u001b[0m\n\u001b[1;32m      1\u001b[0m \u001b[0mebp_url\u001b[0m \u001b[0;34m=\u001b[0m \u001b[0;34m'https://raw.githubusercontent.com/Explore-AI/academy-content/master/courses/data-science/fundamentals/analyse/predict/data/electrification_by_province.csv?token=AONJI6P3AI6HFYIHHVX2FDK6IKGFU'\u001b[0m\u001b[0;34m\u001b[0m\u001b[0;34m\u001b[0m\u001b[0m\n\u001b[0;32m----> 2\u001b[0;31m \u001b[0mebp_df\u001b[0m \u001b[0;34m=\u001b[0m \u001b[0mpd\u001b[0m\u001b[0;34m.\u001b[0m\u001b[0mread_csv\u001b[0m\u001b[0;34m(\u001b[0m\u001b[0mebp_url\u001b[0m\u001b[0;34m)\u001b[0m\u001b[0;34m\u001b[0m\u001b[0;34m\u001b[0m\u001b[0m\n\u001b[0m\u001b[1;32m      3\u001b[0m \u001b[0;34m\u001b[0m\u001b[0m\n\u001b[1;32m      4\u001b[0m \u001b[0;32mfor\u001b[0m \u001b[0mcol\u001b[0m\u001b[0;34m,\u001b[0m \u001b[0mrow\u001b[0m \u001b[0;32min\u001b[0m \u001b[0mebp_df\u001b[0m\u001b[0;34m.\u001b[0m\u001b[0miloc\u001b[0m\u001b[0;34m[\u001b[0m\u001b[0;34m:\u001b[0m\u001b[0;34m,\u001b[0m\u001b[0;36m1\u001b[0m\u001b[0;34m:\u001b[0m\u001b[0;34m]\u001b[0m\u001b[0;34m.\u001b[0m\u001b[0miteritems\u001b[0m\u001b[0;34m(\u001b[0m\u001b[0;34m)\u001b[0m\u001b[0;34m:\u001b[0m\u001b[0;34m\u001b[0m\u001b[0;34m\u001b[0m\u001b[0m\n\u001b[1;32m      5\u001b[0m     \u001b[0mebp_df\u001b[0m\u001b[0;34m[\u001b[0m\u001b[0mcol\u001b[0m\u001b[0;34m]\u001b[0m \u001b[0;34m=\u001b[0m \u001b[0mebp_df\u001b[0m\u001b[0;34m[\u001b[0m\u001b[0mcol\u001b[0m\u001b[0;34m]\u001b[0m\u001b[0;34m.\u001b[0m\u001b[0mstr\u001b[0m\u001b[0;34m.\u001b[0m\u001b[0mreplace\u001b[0m\u001b[0;34m(\u001b[0m\u001b[0;34m','\u001b[0m\u001b[0;34m,\u001b[0m\u001b[0;34m''\u001b[0m\u001b[0;34m)\u001b[0m\u001b[0;34m.\u001b[0m\u001b[0mastype\u001b[0m\u001b[0;34m(\u001b[0m\u001b[0mint\u001b[0m\u001b[0;34m)\u001b[0m\u001b[0;34m\u001b[0m\u001b[0;34m\u001b[0m\u001b[0m\n",
            "\u001b[0;32m/usr/local/lib/python3.6/dist-packages/pandas/io/parsers.py\u001b[0m in \u001b[0;36mparser_f\u001b[0;34m(filepath_or_buffer, sep, delimiter, header, names, index_col, usecols, squeeze, prefix, mangle_dupe_cols, dtype, engine, converters, true_values, false_values, skipinitialspace, skiprows, skipfooter, nrows, na_values, keep_default_na, na_filter, verbose, skip_blank_lines, parse_dates, infer_datetime_format, keep_date_col, date_parser, dayfirst, cache_dates, iterator, chunksize, compression, thousands, decimal, lineterminator, quotechar, quoting, doublequote, escapechar, comment, encoding, dialect, error_bad_lines, warn_bad_lines, delim_whitespace, low_memory, memory_map, float_precision)\u001b[0m\n\u001b[1;32m    683\u001b[0m         )\n\u001b[1;32m    684\u001b[0m \u001b[0;34m\u001b[0m\u001b[0m\n\u001b[0;32m--> 685\u001b[0;31m         \u001b[0;32mreturn\u001b[0m \u001b[0m_read\u001b[0m\u001b[0;34m(\u001b[0m\u001b[0mfilepath_or_buffer\u001b[0m\u001b[0;34m,\u001b[0m \u001b[0mkwds\u001b[0m\u001b[0;34m)\u001b[0m\u001b[0;34m\u001b[0m\u001b[0;34m\u001b[0m\u001b[0m\n\u001b[0m\u001b[1;32m    686\u001b[0m \u001b[0;34m\u001b[0m\u001b[0m\n\u001b[1;32m    687\u001b[0m     \u001b[0mparser_f\u001b[0m\u001b[0;34m.\u001b[0m\u001b[0m__name__\u001b[0m \u001b[0;34m=\u001b[0m \u001b[0mname\u001b[0m\u001b[0;34m\u001b[0m\u001b[0;34m\u001b[0m\u001b[0m\n",
            "\u001b[0;32m/usr/local/lib/python3.6/dist-packages/pandas/io/parsers.py\u001b[0m in \u001b[0;36m_read\u001b[0;34m(filepath_or_buffer, kwds)\u001b[0m\n\u001b[1;32m    438\u001b[0m     \u001b[0;31m# See https://github.com/python/mypy/issues/1297\u001b[0m\u001b[0;34m\u001b[0m\u001b[0;34m\u001b[0m\u001b[0;34m\u001b[0m\u001b[0m\n\u001b[1;32m    439\u001b[0m     fp_or_buf, _, compression, should_close = get_filepath_or_buffer(\n\u001b[0;32m--> 440\u001b[0;31m         \u001b[0mfilepath_or_buffer\u001b[0m\u001b[0;34m,\u001b[0m \u001b[0mencoding\u001b[0m\u001b[0;34m,\u001b[0m \u001b[0mcompression\u001b[0m\u001b[0;34m\u001b[0m\u001b[0;34m\u001b[0m\u001b[0m\n\u001b[0m\u001b[1;32m    441\u001b[0m     )\n\u001b[1;32m    442\u001b[0m     \u001b[0mkwds\u001b[0m\u001b[0;34m[\u001b[0m\u001b[0;34m\"compression\"\u001b[0m\u001b[0;34m]\u001b[0m \u001b[0;34m=\u001b[0m \u001b[0mcompression\u001b[0m\u001b[0;34m\u001b[0m\u001b[0;34m\u001b[0m\u001b[0m\n",
            "\u001b[0;32m/usr/local/lib/python3.6/dist-packages/pandas/io/common.py\u001b[0m in \u001b[0;36mget_filepath_or_buffer\u001b[0;34m(filepath_or_buffer, encoding, compression, mode)\u001b[0m\n\u001b[1;32m    194\u001b[0m \u001b[0;34m\u001b[0m\u001b[0m\n\u001b[1;32m    195\u001b[0m     \u001b[0;32mif\u001b[0m \u001b[0m_is_url\u001b[0m\u001b[0;34m(\u001b[0m\u001b[0mfilepath_or_buffer\u001b[0m\u001b[0;34m)\u001b[0m\u001b[0;34m:\u001b[0m\u001b[0;34m\u001b[0m\u001b[0;34m\u001b[0m\u001b[0m\n\u001b[0;32m--> 196\u001b[0;31m         \u001b[0mreq\u001b[0m \u001b[0;34m=\u001b[0m \u001b[0murlopen\u001b[0m\u001b[0;34m(\u001b[0m\u001b[0mfilepath_or_buffer\u001b[0m\u001b[0;34m)\u001b[0m\u001b[0;34m\u001b[0m\u001b[0;34m\u001b[0m\u001b[0m\n\u001b[0m\u001b[1;32m    197\u001b[0m         \u001b[0mcontent_encoding\u001b[0m \u001b[0;34m=\u001b[0m \u001b[0mreq\u001b[0m\u001b[0;34m.\u001b[0m\u001b[0mheaders\u001b[0m\u001b[0;34m.\u001b[0m\u001b[0mget\u001b[0m\u001b[0;34m(\u001b[0m\u001b[0;34m\"Content-Encoding\"\u001b[0m\u001b[0;34m,\u001b[0m \u001b[0;32mNone\u001b[0m\u001b[0;34m)\u001b[0m\u001b[0;34m\u001b[0m\u001b[0;34m\u001b[0m\u001b[0m\n\u001b[1;32m    198\u001b[0m         \u001b[0;32mif\u001b[0m \u001b[0mcontent_encoding\u001b[0m \u001b[0;34m==\u001b[0m \u001b[0;34m\"gzip\"\u001b[0m\u001b[0;34m:\u001b[0m\u001b[0;34m\u001b[0m\u001b[0;34m\u001b[0m\u001b[0m\n",
            "\u001b[0;32m/usr/lib/python3.6/urllib/request.py\u001b[0m in \u001b[0;36murlopen\u001b[0;34m(url, data, timeout, cafile, capath, cadefault, context)\u001b[0m\n\u001b[1;32m    221\u001b[0m     \u001b[0;32melse\u001b[0m\u001b[0;34m:\u001b[0m\u001b[0;34m\u001b[0m\u001b[0;34m\u001b[0m\u001b[0m\n\u001b[1;32m    222\u001b[0m         \u001b[0mopener\u001b[0m \u001b[0;34m=\u001b[0m \u001b[0m_opener\u001b[0m\u001b[0;34m\u001b[0m\u001b[0;34m\u001b[0m\u001b[0m\n\u001b[0;32m--> 223\u001b[0;31m     \u001b[0;32mreturn\u001b[0m \u001b[0mopener\u001b[0m\u001b[0;34m.\u001b[0m\u001b[0mopen\u001b[0m\u001b[0;34m(\u001b[0m\u001b[0murl\u001b[0m\u001b[0;34m,\u001b[0m \u001b[0mdata\u001b[0m\u001b[0;34m,\u001b[0m \u001b[0mtimeout\u001b[0m\u001b[0;34m)\u001b[0m\u001b[0;34m\u001b[0m\u001b[0;34m\u001b[0m\u001b[0m\n\u001b[0m\u001b[1;32m    224\u001b[0m \u001b[0;34m\u001b[0m\u001b[0m\n\u001b[1;32m    225\u001b[0m \u001b[0;32mdef\u001b[0m \u001b[0minstall_opener\u001b[0m\u001b[0;34m(\u001b[0m\u001b[0mopener\u001b[0m\u001b[0;34m)\u001b[0m\u001b[0;34m:\u001b[0m\u001b[0;34m\u001b[0m\u001b[0;34m\u001b[0m\u001b[0m\n",
            "\u001b[0;32m/usr/lib/python3.6/urllib/request.py\u001b[0m in \u001b[0;36mopen\u001b[0;34m(self, fullurl, data, timeout)\u001b[0m\n\u001b[1;32m    530\u001b[0m         \u001b[0;32mfor\u001b[0m \u001b[0mprocessor\u001b[0m \u001b[0;32min\u001b[0m \u001b[0mself\u001b[0m\u001b[0;34m.\u001b[0m\u001b[0mprocess_response\u001b[0m\u001b[0;34m.\u001b[0m\u001b[0mget\u001b[0m\u001b[0;34m(\u001b[0m\u001b[0mprotocol\u001b[0m\u001b[0;34m,\u001b[0m \u001b[0;34m[\u001b[0m\u001b[0;34m]\u001b[0m\u001b[0;34m)\u001b[0m\u001b[0;34m:\u001b[0m\u001b[0;34m\u001b[0m\u001b[0;34m\u001b[0m\u001b[0m\n\u001b[1;32m    531\u001b[0m             \u001b[0mmeth\u001b[0m \u001b[0;34m=\u001b[0m \u001b[0mgetattr\u001b[0m\u001b[0;34m(\u001b[0m\u001b[0mprocessor\u001b[0m\u001b[0;34m,\u001b[0m \u001b[0mmeth_name\u001b[0m\u001b[0;34m)\u001b[0m\u001b[0;34m\u001b[0m\u001b[0;34m\u001b[0m\u001b[0m\n\u001b[0;32m--> 532\u001b[0;31m             \u001b[0mresponse\u001b[0m \u001b[0;34m=\u001b[0m \u001b[0mmeth\u001b[0m\u001b[0;34m(\u001b[0m\u001b[0mreq\u001b[0m\u001b[0;34m,\u001b[0m \u001b[0mresponse\u001b[0m\u001b[0;34m)\u001b[0m\u001b[0;34m\u001b[0m\u001b[0;34m\u001b[0m\u001b[0m\n\u001b[0m\u001b[1;32m    533\u001b[0m \u001b[0;34m\u001b[0m\u001b[0m\n\u001b[1;32m    534\u001b[0m         \u001b[0;32mreturn\u001b[0m \u001b[0mresponse\u001b[0m\u001b[0;34m\u001b[0m\u001b[0;34m\u001b[0m\u001b[0m\n",
            "\u001b[0;32m/usr/lib/python3.6/urllib/request.py\u001b[0m in \u001b[0;36mhttp_response\u001b[0;34m(self, request, response)\u001b[0m\n\u001b[1;32m    640\u001b[0m         \u001b[0;32mif\u001b[0m \u001b[0;32mnot\u001b[0m \u001b[0;34m(\u001b[0m\u001b[0;36m200\u001b[0m \u001b[0;34m<=\u001b[0m \u001b[0mcode\u001b[0m \u001b[0;34m<\u001b[0m \u001b[0;36m300\u001b[0m\u001b[0;34m)\u001b[0m\u001b[0;34m:\u001b[0m\u001b[0;34m\u001b[0m\u001b[0;34m\u001b[0m\u001b[0m\n\u001b[1;32m    641\u001b[0m             response = self.parent.error(\n\u001b[0;32m--> 642\u001b[0;31m                 'http', request, response, code, msg, hdrs)\n\u001b[0m\u001b[1;32m    643\u001b[0m \u001b[0;34m\u001b[0m\u001b[0m\n\u001b[1;32m    644\u001b[0m         \u001b[0;32mreturn\u001b[0m \u001b[0mresponse\u001b[0m\u001b[0;34m\u001b[0m\u001b[0;34m\u001b[0m\u001b[0m\n",
            "\u001b[0;32m/usr/lib/python3.6/urllib/request.py\u001b[0m in \u001b[0;36merror\u001b[0;34m(self, proto, *args)\u001b[0m\n\u001b[1;32m    568\u001b[0m         \u001b[0;32mif\u001b[0m \u001b[0mhttp_err\u001b[0m\u001b[0;34m:\u001b[0m\u001b[0;34m\u001b[0m\u001b[0;34m\u001b[0m\u001b[0m\n\u001b[1;32m    569\u001b[0m             \u001b[0margs\u001b[0m \u001b[0;34m=\u001b[0m \u001b[0;34m(\u001b[0m\u001b[0mdict\u001b[0m\u001b[0;34m,\u001b[0m \u001b[0;34m'default'\u001b[0m\u001b[0;34m,\u001b[0m \u001b[0;34m'http_error_default'\u001b[0m\u001b[0;34m)\u001b[0m \u001b[0;34m+\u001b[0m \u001b[0morig_args\u001b[0m\u001b[0;34m\u001b[0m\u001b[0;34m\u001b[0m\u001b[0m\n\u001b[0;32m--> 570\u001b[0;31m             \u001b[0;32mreturn\u001b[0m \u001b[0mself\u001b[0m\u001b[0;34m.\u001b[0m\u001b[0m_call_chain\u001b[0m\u001b[0;34m(\u001b[0m\u001b[0;34m*\u001b[0m\u001b[0margs\u001b[0m\u001b[0;34m)\u001b[0m\u001b[0;34m\u001b[0m\u001b[0;34m\u001b[0m\u001b[0m\n\u001b[0m\u001b[1;32m    571\u001b[0m \u001b[0;34m\u001b[0m\u001b[0m\n\u001b[1;32m    572\u001b[0m \u001b[0;31m# XXX probably also want an abstract factory that knows when it makes\u001b[0m\u001b[0;34m\u001b[0m\u001b[0;34m\u001b[0m\u001b[0;34m\u001b[0m\u001b[0m\n",
            "\u001b[0;32m/usr/lib/python3.6/urllib/request.py\u001b[0m in \u001b[0;36m_call_chain\u001b[0;34m(self, chain, kind, meth_name, *args)\u001b[0m\n\u001b[1;32m    502\u001b[0m         \u001b[0;32mfor\u001b[0m \u001b[0mhandler\u001b[0m \u001b[0;32min\u001b[0m \u001b[0mhandlers\u001b[0m\u001b[0;34m:\u001b[0m\u001b[0;34m\u001b[0m\u001b[0;34m\u001b[0m\u001b[0m\n\u001b[1;32m    503\u001b[0m             \u001b[0mfunc\u001b[0m \u001b[0;34m=\u001b[0m \u001b[0mgetattr\u001b[0m\u001b[0;34m(\u001b[0m\u001b[0mhandler\u001b[0m\u001b[0;34m,\u001b[0m \u001b[0mmeth_name\u001b[0m\u001b[0;34m)\u001b[0m\u001b[0;34m\u001b[0m\u001b[0;34m\u001b[0m\u001b[0m\n\u001b[0;32m--> 504\u001b[0;31m             \u001b[0mresult\u001b[0m \u001b[0;34m=\u001b[0m \u001b[0mfunc\u001b[0m\u001b[0;34m(\u001b[0m\u001b[0;34m*\u001b[0m\u001b[0margs\u001b[0m\u001b[0;34m)\u001b[0m\u001b[0;34m\u001b[0m\u001b[0;34m\u001b[0m\u001b[0m\n\u001b[0m\u001b[1;32m    505\u001b[0m             \u001b[0;32mif\u001b[0m \u001b[0mresult\u001b[0m \u001b[0;32mis\u001b[0m \u001b[0;32mnot\u001b[0m \u001b[0;32mNone\u001b[0m\u001b[0;34m:\u001b[0m\u001b[0;34m\u001b[0m\u001b[0;34m\u001b[0m\u001b[0m\n\u001b[1;32m    506\u001b[0m                 \u001b[0;32mreturn\u001b[0m \u001b[0mresult\u001b[0m\u001b[0;34m\u001b[0m\u001b[0;34m\u001b[0m\u001b[0m\n",
            "\u001b[0;32m/usr/lib/python3.6/urllib/request.py\u001b[0m in \u001b[0;36mhttp_error_default\u001b[0;34m(self, req, fp, code, msg, hdrs)\u001b[0m\n\u001b[1;32m    648\u001b[0m \u001b[0;32mclass\u001b[0m \u001b[0mHTTPDefaultErrorHandler\u001b[0m\u001b[0;34m(\u001b[0m\u001b[0mBaseHandler\u001b[0m\u001b[0;34m)\u001b[0m\u001b[0;34m:\u001b[0m\u001b[0;34m\u001b[0m\u001b[0;34m\u001b[0m\u001b[0m\n\u001b[1;32m    649\u001b[0m     \u001b[0;32mdef\u001b[0m \u001b[0mhttp_error_default\u001b[0m\u001b[0;34m(\u001b[0m\u001b[0mself\u001b[0m\u001b[0;34m,\u001b[0m \u001b[0mreq\u001b[0m\u001b[0;34m,\u001b[0m \u001b[0mfp\u001b[0m\u001b[0;34m,\u001b[0m \u001b[0mcode\u001b[0m\u001b[0;34m,\u001b[0m \u001b[0mmsg\u001b[0m\u001b[0;34m,\u001b[0m \u001b[0mhdrs\u001b[0m\u001b[0;34m)\u001b[0m\u001b[0;34m:\u001b[0m\u001b[0;34m\u001b[0m\u001b[0;34m\u001b[0m\u001b[0m\n\u001b[0;32m--> 650\u001b[0;31m         \u001b[0;32mraise\u001b[0m \u001b[0mHTTPError\u001b[0m\u001b[0;34m(\u001b[0m\u001b[0mreq\u001b[0m\u001b[0;34m.\u001b[0m\u001b[0mfull_url\u001b[0m\u001b[0;34m,\u001b[0m \u001b[0mcode\u001b[0m\u001b[0;34m,\u001b[0m \u001b[0mmsg\u001b[0m\u001b[0;34m,\u001b[0m \u001b[0mhdrs\u001b[0m\u001b[0;34m,\u001b[0m \u001b[0mfp\u001b[0m\u001b[0;34m)\u001b[0m\u001b[0;34m\u001b[0m\u001b[0;34m\u001b[0m\u001b[0m\n\u001b[0m\u001b[1;32m    651\u001b[0m \u001b[0;34m\u001b[0m\u001b[0m\n\u001b[1;32m    652\u001b[0m \u001b[0;32mclass\u001b[0m \u001b[0mHTTPRedirectHandler\u001b[0m\u001b[0;34m(\u001b[0m\u001b[0mBaseHandler\u001b[0m\u001b[0;34m)\u001b[0m\u001b[0;34m:\u001b[0m\u001b[0;34m\u001b[0m\u001b[0;34m\u001b[0m\u001b[0m\n",
            "\u001b[0;31mHTTPError\u001b[0m: HTTP Error 404: Not Found"
          ]
        }
      ]
    },
    {
      "cell_type": "markdown",
      "metadata": {
        "id": "iWaIxcnhnEsD",
        "colab_type": "text"
      },
      "source": [
        "### Twitter data"
      ]
    },
    {
      "cell_type": "code",
      "metadata": {
        "id": "JjsCoWYQnEsE",
        "colab_type": "code",
        "outputId": "b78834e6-ca84-47c0-9972-32c7668f0568",
        "colab": {
          "base_uri": "https://localhost:8080/",
          "height": 197
        }
      },
      "source": [
        "twitter_url = 'https://raw.githubusercontent.com/Explore-AI/academy-content/master/courses/data-science/fundamentals/analyse/predict/data/twitter_nov_2019.csv?token=AONJI6ONBTLJJLGK34JLTXK6IKGNI'\n",
        "twitter_df = pd.read_csv(twitter_url)\n",
        "twitter_df.head()"
      ],
      "execution_count": 0,
      "outputs": [
        {
          "output_type": "execute_result",
          "data": {
            "text/html": [
              "<div>\n",
              "<style scoped>\n",
              "    .dataframe tbody tr th:only-of-type {\n",
              "        vertical-align: middle;\n",
              "    }\n",
              "\n",
              "    .dataframe tbody tr th {\n",
              "        vertical-align: top;\n",
              "    }\n",
              "\n",
              "    .dataframe thead th {\n",
              "        text-align: right;\n",
              "    }\n",
              "</style>\n",
              "<table border=\"1\" class=\"dataframe\">\n",
              "  <thead>\n",
              "    <tr style=\"text-align: right;\">\n",
              "      <th></th>\n",
              "      <th>Tweets</th>\n",
              "      <th>Date</th>\n",
              "    </tr>\n",
              "  </thead>\n",
              "  <tbody>\n",
              "    <tr>\n",
              "      <th>0</th>\n",
              "      <td>@BongaDlulane Please send an email to mediades...</td>\n",
              "      <td>2019-11-29 12:50:54</td>\n",
              "    </tr>\n",
              "    <tr>\n",
              "      <th>1</th>\n",
              "      <td>@saucy_mamiie Pls log a call on 0860037566</td>\n",
              "      <td>2019-11-29 12:46:53</td>\n",
              "    </tr>\n",
              "    <tr>\n",
              "      <th>2</th>\n",
              "      <td>@BongaDlulane Query escalated to media desk.</td>\n",
              "      <td>2019-11-29 12:46:10</td>\n",
              "    </tr>\n",
              "    <tr>\n",
              "      <th>3</th>\n",
              "      <td>Before leaving the office this afternoon, head...</td>\n",
              "      <td>2019-11-29 12:33:36</td>\n",
              "    </tr>\n",
              "    <tr>\n",
              "      <th>4</th>\n",
              "      <td>#ESKOMFREESTATE #MEDIASTATEMENT : ESKOM SUSPEN...</td>\n",
              "      <td>2019-11-29 12:17:43</td>\n",
              "    </tr>\n",
              "  </tbody>\n",
              "</table>\n",
              "</div>"
            ],
            "text/plain": [
              "                                              Tweets                 Date\n",
              "0  @BongaDlulane Please send an email to mediades...  2019-11-29 12:50:54\n",
              "1         @saucy_mamiie Pls log a call on 0860037566  2019-11-29 12:46:53\n",
              "2       @BongaDlulane Query escalated to media desk.  2019-11-29 12:46:10\n",
              "3  Before leaving the office this afternoon, head...  2019-11-29 12:33:36\n",
              "4  #ESKOMFREESTATE #MEDIASTATEMENT : ESKOM SUSPEN...  2019-11-29 12:17:43"
            ]
          },
          "metadata": {
            "tags": []
          },
          "execution_count": 3
        }
      ]
    },
    {
      "cell_type": "markdown",
      "metadata": {
        "id": "fX0YWpB6nEsI",
        "colab_type": "text"
      },
      "source": [
        "## Important Variables (Do not edit these!)"
      ]
    },
    {
      "cell_type": "code",
      "metadata": {
        "id": "3zNVquuKnEsK",
        "colab_type": "code",
        "colab": {}
      },
      "source": [
        "# gauteng ebp data as a list\n",
        "gauteng = ebp_df['Gauteng'].astype(float).to_list()\n",
        "\n",
        "# dates for twitter tweets\n",
        "dates = twitter_df['Date'].to_list()\n",
        "\n",
        "# dictionary mapping official municipality twitter handles to the municipality name\n",
        "mun_dict = {\n",
        "    '@CityofCTAlerts' : 'Cape Town',\n",
        "    '@CityPowerJhb' : 'Johannesburg',\n",
        "    '@eThekwiniM' : 'eThekwini' ,\n",
        "    '@EMMInfo' : 'Ekurhuleni',\n",
        "    '@centlecutility' : 'Mangaung',\n",
        "    '@NMBmunicipality' : 'Nelson Mandela Bay',\n",
        "    '@CityTshwane' : 'Tshwane'\n",
        "}\n",
        "\n",
        "# dictionary of english stopwords\n",
        "stop_words_dict = {\n",
        "    'stopwords':[\n",
        "        'where', 'done', 'if', 'before', 'll', 'very', 'keep', 'something', 'nothing', 'thereupon', \n",
        "        'may', 'why', 'â€™s', 'therefore', 'you', 'with', 'towards', 'make', 'really', 'few', 'former', \n",
        "        'during', 'mine', 'do', 'would', 'of', 'off', 'six', 'yourself', 'becoming', 'through', \n",
        "        'seeming', 'hence', 'us', 'anywhere', 'regarding', 'whole', 'down', 'seem', 'whereas', 'to', \n",
        "        'their', 'various', 'thereafter', 'â€˜d', 'above', 'put', 'sometime', 'moreover', 'whoever', 'although', \n",
        "        'at', 'four', 'each', 'among', 'whatever', 'any', 'anyhow', 'herein', 'become', 'last', 'between', 'still', \n",
        "        'was', 'almost', 'twelve', 'used', 'who', 'go', 'not', 'enough', 'well', 'â€™ve', 'might', 'see', 'whose', \n",
        "        'everywhere', 'yourselves', 'across', 'myself', 'further', 'did', 'then', 'is', 'except', 'up', 'take', \n",
        "        'became', 'however', 'many', 'thence', 'onto', 'â€˜m', 'my', 'own', 'must', 'wherein', 'elsewhere', 'behind', \n",
        "        'becomes', 'alone', 'due', 'being', 'neither', 'a', 'over', 'beside', 'fifteen', 'meanwhile', 'upon', 'next', \n",
        "        'forty', 'what', 'less', 'and', 'please', 'toward', 'about', 'below', 'hereafter', 'whether', 'yet', 'nor', \n",
        "        'against', 'whereupon', 'top', 'first', 'three', 'show', 'per', 'five', 'two', 'ourselves', 'whenever', \n",
        "        'get', 'thereby', 'noone', 'had', 'now', 'everyone', 'everything', 'nowhere', 'ca', 'though', 'least', \n",
        "        'so', 'both', 'otherwise', 'whereby', 'unless', 'somewhere', 'give', 'formerly', 'â€™d', 'under', \n",
        "        'while', 'empty', 'doing', 'besides', 'thus', 'this', 'anyone', 'its', 'after', 'bottom', 'call', \n",
        "        'nâ€™t', 'name', 'even', 'eleven', 'by', 'from', 'when', 'or', 'anyway', 'how', 'the', 'all', \n",
        "        'much', 'another', 'since', 'hundred', 'serious', 'â€˜ve', 'ever', 'out', 'full', 'themselves', \n",
        "        'been', 'in', \"'d\", 'wherever', 'part', 'someone', 'therein', 'can', 'seemed', 'hereby', 'others', \n",
        "        \"'s\", \"'re\", 'most', 'one', \"n't\", 'into', 'some', 'will', 'these', 'twenty', 'here', 'as', 'nobody', \n",
        "        'also', 'along', 'than', 'anything', 'he', 'there', 'does', 'we', 'â€™ll', 'latterly', 'are', 'ten', \n",
        "        'hers', 'should', 'they', 'â€˜s', 'either', 'am', 'be', 'perhaps', 'â€™re', 'only', 'namely', 'sixty', \n",
        "        'made', \"'m\", 'always', 'those', 'have', 'again', 'her', 'once', 'ours', 'herself', 'else', 'has', 'nine', \n",
        "        'more', 'sometimes', 'your', 'yours', 'that', 'around', 'his', 'indeed', 'mostly', 'cannot', 'â€˜ll', 'too', \n",
        "        'seems', 'â€™m', 'himself', 'latter', 'whither', 'amount', 'other', 'nevertheless', 'whom', 'for', 'somehow', \n",
        "        'beforehand', 'just', 'an', 'beyond', 'amongst', 'none', \"'ve\", 'say', 'via', 'but', 'often', 're', 'our', \n",
        "        'because', 'rather', 'using', 'without', 'throughout', 'on', 'she', 'never', 'eight', 'no', 'hereupon', \n",
        "        'them', 'whereafter', 'quite', 'which', 'move', 'thru', 'until', 'afterwards', 'fifty', 'i', 'itself', 'nâ€˜t',\n",
        "        'him', 'could', 'front', 'within', 'â€˜re', 'back', 'such', 'already', 'several', 'side', 'whence', 'me', \n",
        "        'same', 'were', 'it', 'every', 'third', 'together'\n",
        "    ]\n",
        "}"
      ],
      "execution_count": 0,
      "outputs": []
    },
    {
      "cell_type": "markdown",
      "metadata": {
        "colab_type": "text",
        "id": "uLLfADfm3qAN"
      },
      "source": [
        "## Function 1: Metric Dictionary\n",
        "\n",
        "Write a function that calculates the mean, median, variance, standard deviation, minimum and maximum of of list of items. You can assume the given list is contains only numerical entries, and you may use numpy functions to do this.\n",
        "\n",
        "**Function Specifications:**\n",
        "- Function should allow a list as input.\n",
        "- It should return a `dict` with keys `'mean'`, `'median'`, `'std'`, `'var'`, `'min'`, and `'max'`, corresponding to the mean, median, standard deviation, variance, minimum and maximum of the input list, respectively.\n",
        "- The standard deviation and variance values must be unbiased. **Hint:** use the `ddof` parameter in the corresponding numpy functions!\n",
        "- All values in the returned `dict` should be rounded to 2 decimal places."
      ]
    },
    {
      "cell_type": "code",
      "metadata": {
        "id": "psO3aV0anEsR",
        "colab_type": "code",
        "colab": {}
      },
      "source": [
        "### START FUNCTION\n",
        "def dictionary_of_metrics(items):\n",
        "    # your code here\n",
        "    mean = sum(items)/ len(items)\n",
        "    sorted(items)\n",
        "    if len(items) % 2 == 0:\n",
        "      mid1 = items[len(items ) // 2]\n",
        "      mid2 = items[len(items) // 2 - 1]\n",
        "      median  = (mid1 + mid2) / 2\n",
        "    std = np.std(items, ddof = 1)\n",
        "    var = std ** 2\n",
        "    minimum = min(items)\n",
        "    maximum = max(items)\n",
        "    dict_list = {'mean': round(mean, 2), 'median' : round(median, 2), 'std': round(std, 2), 'var': round(var, 2), 'min':round( minimum, 2), 'max': round(maximum, 2)}\n",
        "    return dict_list\n",
        "    return\n",
        "\n",
        "### END FUNCTION"
      ],
      "execution_count": 0,
      "outputs": []
    },
    {
      "cell_type": "code",
      "metadata": {
        "id": "8U66uwnLnEsU",
        "colab_type": "code",
        "outputId": "a0cb88c1-903c-4638-f262-99774c91142c",
        "colab": {
          "base_uri": "https://localhost:8080/",
          "height": 116
        }
      },
      "source": [
        "dictionary_of_metrics(gauteng)"
      ],
      "execution_count": 0,
      "outputs": [
        {
          "output_type": "execute_result",
          "data": {
            "text/plain": [
              "{'max': 39660.0,\n",
              " 'mean': 26244.42,\n",
              " 'median': 16187.0,\n",
              " 'min': 8842.0,\n",
              " 'std': 10400.01,\n",
              " 'var': 108160153.17}"
            ]
          },
          "metadata": {
            "tags": []
          },
          "execution_count": 9
        }
      ]
    },
    {
      "cell_type": "markdown",
      "metadata": {
        "colab_type": "text",
        "id": "LWF1JOcu3wru"
      },
      "source": [
        "_**Expected Output**_:\n",
        "\n",
        "```python\n",
        "dictionary_of_metrics(gauteng) == {'mean': 26244.42,\n",
        "                                   'median': 24403.5,\n",
        "                                   'var': 108160153.17,\n",
        "                                   'std': 10400.01,\n",
        "                                   'min': 8842.0,\n",
        "                                   'max': 39660.0}\n",
        " ```"
      ]
    },
    {
      "cell_type": "markdown",
      "metadata": {
        "colab_type": "text",
        "id": "wRxJtgMV3yty"
      },
      "source": [
        "## Function 2: Five Number Summary\n",
        "\n",
        "Write a function which takes in a list of integers and returns a dictionary of the [five number summary.](https://www.statisticshowto.datasciencecentral.com/how-to-find-a-five-number-summary-in-statistics/).\n",
        "\n",
        "**Function Specifications:**\n",
        "- The function should take a list as input.\n",
        "- The function should return a `dict` with keys `'max'`, `'median'`, `'min'`, `'q1'`, and `'q3'` corresponding to the maximum, median, minimum, first quartile and third quartile, respectively. You may use numpy functions to aid in your calculations.\n",
        "- All numerical values should be rounded to two decimal places."
      ]
    },
    {
      "cell_type": "code",
      "metadata": {
        "id": "WlBrLF-mnEsc",
        "colab_type": "code",
        "colab": {}
      },
      "source": [
        "### START FUNCTION\n",
        "def five_num_summary(items):\n",
        "    # your code here\n",
        "    sorted(items)\n",
        "    q1 = np.quantile(items, 0.25)\n",
        "    q3 = np.quantile(items, 0.75)\n",
        "    maximum = max(items)\n",
        "    minimum = min(items)\n",
        "    median = np.quantile(items, 0.5)\n",
        "\n",
        "    return {'max': round(maximum, 2), 'median': round(median, 2), 'min': round(minimum, 2), 'q1': round(q1, 2), 'q3': round(q3, 2)}\n",
        "    \n",
        "\n",
        "### END FUNCTION"
      ],
      "execution_count": 0,
      "outputs": []
    },
    {
      "cell_type": "code",
      "metadata": {
        "colab_type": "code",
        "id": "ybM3OvvPDXdq",
        "outputId": "61881d64-9986-4b21-bad1-44244940d169",
        "colab": {
          "base_uri": "https://localhost:8080/",
          "height": 100
        }
      },
      "source": [
        "five_num_summary(gauteng)"
      ],
      "execution_count": 0,
      "outputs": [
        {
          "output_type": "execute_result",
          "data": {
            "text/plain": [
              "{'max': 39660.0,\n",
              " 'median': 24403.5,\n",
              " 'min': 8842.0,\n",
              " 'q1': 18653.0,\n",
              " 'q3': 36372.0}"
            ]
          },
          "metadata": {
            "tags": []
          },
          "execution_count": 49
        }
      ]
    },
    {
      "cell_type": "markdown",
      "metadata": {
        "colab_type": "text",
        "id": "rXwuo3ac34RQ"
      },
      "source": [
        "_**Expected Output:**_\n",
        "\n",
        "```python\n",
        "five_num_summary(gauteng) == {\n",
        "    'max': 39660.0,\n",
        "    'median': 24403.5,\n",
        "    'min': 8842.0,\n",
        "    'q1': 18653.0,\n",
        "    'q3': 36372.0\n",
        "}\n",
        "\n",
        "```"
      ]
    },
    {
      "cell_type": "markdown",
      "metadata": {
        "colab_type": "text",
        "id": "YE__20-4339e"
      },
      "source": [
        "## Function 3: Date Parser\n",
        "\n",
        "The `dates` variable (created at the top of this notebook) is a list of dates represented as strings. The string contains the date in `'yyyy-mm-dd'` format, as well as the time in `hh:mm:ss` formamt. The first three entries in this variable are:\n",
        "```python\n",
        "dates[:3] == [\n",
        "    '2019-11-29 12:50:54',\n",
        "    '2019-11-29 12:46:53',\n",
        "    '2019-11-29 12:46:10'\n",
        "]\n",
        "```\n",
        "\n",
        "Write a function that takes as input a list of these datetime strings and returns only the date in `'yyyy-mm-dd'` format.\n",
        "\n",
        "**Function Specifications:**\n",
        "- The function should take a list of strings as input.\n",
        "- Each string in the input list is formatted as `'yyyy-mm-dd hh:mm:ss'`.\n",
        "- The function should return a list of strings where each element in the returned list contains only the date in the `'yyyy-mm-dd'` format."
      ]
    },
    {
      "cell_type": "code",
      "metadata": {
        "colab_type": "code",
        "id": "Iv60qvsDPzmb",
        "colab": {}
      },
      "source": [
        "### START FUNCTION\n",
        "def date_parser(dates):\n",
        "    # your code here\n",
        "    new_lis = []\n",
        "    for date in dates:\n",
        "       new_lis.append(date[:10])\n",
        "    return new_lis\n",
        "\n",
        "### END FUNCTION"
      ],
      "execution_count": 0,
      "outputs": []
    },
    {
      "cell_type": "code",
      "metadata": {
        "id": "KV_p2aJGnEsq",
        "colab_type": "code",
        "outputId": "58c82f57-4d31-4e79-fd0f-cb89e87820f5",
        "colab": {
          "base_uri": "https://localhost:8080/",
          "height": 33
        }
      },
      "source": [
        "date_parser(dates[-3:])"
      ],
      "execution_count": 0,
      "outputs": [
        {
          "output_type": "execute_result",
          "data": {
            "text/plain": [
              "['2019-11-20', '2019-11-20', '2019-11-20']"
            ]
          },
          "metadata": {
            "tags": []
          },
          "execution_count": 47
        }
      ]
    },
    {
      "cell_type": "markdown",
      "metadata": {
        "colab_type": "text",
        "id": "NR2f64A24OOp"
      },
      "source": [
        "_**Expected Output:**_\n",
        "\n",
        "```python\n",
        "date_parser(dates[:3]) == ['2019-11-29', '2019-11-29', '2019-11-29']\n",
        "date_parser(dates[-3:]) == ['2019-11-20', '2019-11-20', '2019-11-20']\n",
        "```"
      ]
    },
    {
      "cell_type": "markdown",
      "metadata": {
        "colab_type": "text",
        "id": "jmhEu6VU4N8k"
      },
      "source": [
        "## Function 4: Municipality & Hashtag Detector\n",
        "\n",
        "Write a function which takes in a pandas dataframe and returns a modified dataframe that includes two new columns that contain information about the municipality and hashtag of the tweet.\n",
        "\n",
        "**Function Specifications:**\n",
        "* Function should take a pandas `dataframe` as input.\n",
        "* Extract the municipality from a tweet using the `mun_dict` dictonary given below, and insert the result into a new column named `'municipality'` in the same dataframe.\n",
        "* Use the entry `np.nan` when a municipality is not found.\n",
        "* Extract a list of hashtags from a tweet into a new column named `'hashtags'` in the same dataframe.\n",
        "* Use the entry `np.nan` when no hashtags are found.\n",
        "\n",
        "**Hint:** you will need to `mun_dict` variable defined at the top of this notebook.\n",
        "\n",
        "```"
      ]
    },
    {
      "cell_type": "code",
      "metadata": {
        "colab_type": "code",
        "id": "tEwUCB2LmbLS",
        "colab": {}
      },
      "source": [
        "### START FUNCTION\n",
        "def extract_municipality_hashtags(df):\n",
        "    # your code here\n",
        "    return\n",
        "\n",
        "### END FUNCTION"
      ],
      "execution_count": 0,
      "outputs": []
    },
    {
      "cell_type": "code",
      "metadata": {
        "id": "BCKUhZ-LnEs0",
        "colab_type": "code",
        "colab": {}
      },
      "source": [
        "extract_municipality_hashtags(twitter_df.copy())"
      ],
      "execution_count": 0,
      "outputs": []
    },
    {
      "cell_type": "markdown",
      "metadata": {
        "colab_type": "text",
        "id": "RO39F02A4qEp"
      },
      "source": [
        "_**Expected Outputs:**_ \n",
        "\n",
        "```python\n",
        "\n",
        "extract_municipality_hashtags(twitter_df.copy())\n",
        "\n",
        "```\n",
        "> <table class=\"dataframe\" border=\"1\">\n",
        "  <thead>\n",
        "    <tr style=\"text-align: right;\">\n",
        "      <th></th>\n",
        "      <th>Tweets</th>\n",
        "      <th>Date</th>\n",
        "      <th>municipality</th>\n",
        "      <th>hashtags</th>\n",
        "    </tr>\n",
        "  </thead>\n",
        "  <tbody>\n",
        "    <tr>\n",
        "      <th>0</th>\n",
        "      <td>@BongaDlulane Please send an email to mediades...</td>\n",
        "      <td>2019-11-29 12:50:54</td>\n",
        "      <td>NaN</td>\n",
        "      <td>NaN</td>\n",
        "    </tr>\n",
        "    <tr>\n",
        "      <th>1</th>\n",
        "      <td>@saucy_mamiie Pls log a call on 0860037566</td>\n",
        "      <td>2019-11-29 12:46:53</td>\n",
        "      <td>NaN</td>\n",
        "      <td>NaN</td>\n",
        "    </tr>\n",
        "    <tr>\n",
        "      <th>2</th>\n",
        "      <td>@BongaDlulane Query escalated to media desk.</td>\n",
        "      <td>2019-11-29 12:46:10</td>\n",
        "      <td>NaN</td>\n",
        "      <td>NaN</td>\n",
        "    </tr>\n",
        "    <tr>\n",
        "      <th>3</th>\n",
        "      <td>Before leaving the office this afternoon, head...</td>\n",
        "      <td>2019-11-29 12:33:36</td>\n",
        "      <td>NaN</td>\n",
        "      <td>NaN</td>\n",
        "    </tr>\n",
        "    <tr>\n",
        "      <th>4</th>\n",
        "      <td>#ESKOMFREESTATE #MEDIASTATEMENT : ESKOM SUSPEN...</td>\n",
        "      <td>2019-11-29 12:17:43</td>\n",
        "      <td>NaN</td>\n",
        "      <td>[#eskomfreestate, #mediastatement]</td>\n",
        "    </tr>\n",
        "    <tr>\n",
        "      <th>...</th>\n",
        "      <td>...</td>\n",
        "      <td>...</td>\n",
        "      <td>...</td>\n",
        "      <td>...</td>\n",
        "    </tr>\n",
        "    <tr>\n",
        "      <th>195</th>\n",
        "      <td>Eskom's Visitors Centresâ€™ facilities include i...</td>\n",
        "      <td>2019-11-20 10:29:07</td>\n",
        "      <td>NaN</td>\n",
        "      <td>NaN</td>\n",
        "    </tr>\n",
        "    <tr>\n",
        "      <th>196</th>\n",
        "      <td>#Eskom connected 400 houses and in the process...</td>\n",
        "      <td>2019-11-20 10:25:20</td>\n",
        "      <td>NaN</td>\n",
        "      <td>[#eskom, #eskom, #poweringyourworld]</td>\n",
        "    </tr>\n",
        "    <tr>\n",
        "      <th>197</th>\n",
        "      <td>@ArthurGodbeer Is the power restored as yet?</td>\n",
        "      <td>2019-11-20 10:07:59</td>\n",
        "      <td>NaN</td>\n",
        "      <td>NaN</td>\n",
        "    </tr>\n",
        "    <tr>\n",
        "      <th>198</th>\n",
        "      <td>@MuthambiPaulina @SABCNewsOnline @IOL @eNCA @e...</td>\n",
        "      <td>2019-11-20 10:07:41</td>\n",
        "      <td>NaN</td>\n",
        "      <td>NaN</td>\n",
        "    </tr>\n",
        "    <tr>\n",
        "      <th>199</th>\n",
        "      <td>RT @GP_DHS: The @GautengProvince made a commit...</td>\n",
        "      <td>2019-11-20 10:00:09</td>\n",
        "      <td>NaN</td>\n",
        "      <td>NaN</td>\n",
        "    </tr>\n",
        "  </tbody>\n",
        "</table>"
      ]
    },
    {
      "cell_type": "markdown",
      "metadata": {
        "colab_type": "text",
        "id": "zL2f74Iv4vF4"
      },
      "source": [
        "## Function 5: Number of Tweets per Day\n",
        "\n",
        "Write a function which calculates the number of tweets that were posted per day. \n",
        "\n",
        "**Function Specifications:**\n",
        "- It should take a pandas dataframe as input.\n",
        "- It should return a new dataframe, grouped by day, with the number of tweets for that day.\n",
        "- The index of the new dataframe should be named `Date`, and the column of the new dataframe should be `'Tweets'`, corresponding to the date and number of tweets, respectively.\n",
        "- The date should be formated as `yyyy-mm-dd`, and should be a datetime object. **Hint:** look up `pd.to_datetime` to see how to do this."
      ]
    },
    {
      "cell_type": "code",
      "metadata": {
        "colab_type": "code",
        "id": "2OgGwo22vogg",
        "colab": {}
      },
      "source": [
        "### START FUNCTION\n",
        "def number_of_tweets_per_day(df):\n",
        "    # your code here\n",
        "    return\n",
        "\n",
        "### END FUNCTION"
      ],
      "execution_count": 0,
      "outputs": []
    },
    {
      "cell_type": "code",
      "metadata": {
        "id": "SOw_vmJTnEtA",
        "colab_type": "code",
        "colab": {}
      },
      "source": [
        "number_of_tweets_per_day(twitter_df.copy())"
      ],
      "execution_count": 0,
      "outputs": []
    },
    {
      "cell_type": "markdown",
      "metadata": {
        "colab_type": "text",
        "id": "sRgKYS5r41CY"
      },
      "source": [
        "_**Expected Output:**_\n",
        "\n",
        "```python\n",
        "\n",
        "number_of_tweets_per_day(twitter_df.copy())\n",
        "\n",
        "```\n",
        "\n",
        "> <table class=\"dataframe\" border=\"1\">\n",
        "  <thead>\n",
        "    <tr style=\"text-align: right;\">\n",
        "      <th></th>\n",
        "      <th>Tweets</th>\n",
        "    </tr>\n",
        "    <tr>\n",
        "      <th>Date</th>\n",
        "      <th></th>\n",
        "    </tr>\n",
        "  </thead>\n",
        "  <tbody>\n",
        "    <tr>\n",
        "      <th>2019-11-20</th>\n",
        "      <td>18</td>\n",
        "    </tr>\n",
        "    <tr>\n",
        "      <th>2019-11-21</th>\n",
        "      <td>11</td>\n",
        "    </tr>\n",
        "    <tr>\n",
        "      <th>2019-11-22</th>\n",
        "      <td>25</td>\n",
        "    </tr>\n",
        "    <tr>\n",
        "      <th>2019-11-23</th>\n",
        "      <td>19</td>\n",
        "    </tr>\n",
        "    <tr>\n",
        "      <th>2019-11-24</th>\n",
        "      <td>14</td>\n",
        "    </tr>\n",
        "    <tr>\n",
        "      <th>2019-11-25</th>\n",
        "      <td>20</td>\n",
        "    </tr>\n",
        "    <tr>\n",
        "      <th>2019-11-26</th>\n",
        "      <td>32</td>\n",
        "    </tr>\n",
        "    <tr>\n",
        "      <th>2019-11-27</th>\n",
        "      <td>13</td>\n",
        "    </tr>\n",
        "    <tr>\n",
        "      <th>2019-11-28</th>\n",
        "      <td>32</td>\n",
        "    </tr>\n",
        "    <tr>\n",
        "      <th>2019-11-29</th>\n",
        "      <td>16</td>\n",
        "    </tr>\n",
        "  </tbody>\n",
        "</table>"
      ]
    },
    {
      "cell_type": "markdown",
      "metadata": {
        "colab_type": "text",
        "id": "BbDANpgZ46qz"
      },
      "source": [
        "# Function 6: Word Splitter\n",
        "\n",
        "Write a function which splits the sentences in a dataframe's column into a list of the separate words. The created lists should be placed in a column named `'Split Tweets'` in the original dataframe. This is also known as [tokenization](https://www.geeksforgeeks.org/nlp-how-tokenizing-text-sentence-words-works/).\n",
        "\n",
        "**Function Specifications:**\n",
        "- It should take a pandas dataframe as an input.\n",
        "- The dataframe should contain a column, named `'Tweets'`.\n",
        "- The function should split the sentences in the `'Tweets'` into a list of seperate words, and place the result into a new column named `'Split Tweets'`. The resulting words must all be lowercase!\n",
        "- The function should modify the input dataframe directly.\n",
        "- The function should return the modified dataframe."
      ]
    },
    {
      "cell_type": "code",
      "metadata": {
        "colab_type": "code",
        "id": "EYWIHnwy7_0A",
        "colab": {}
      },
      "source": [
        "### START FUNCTION\n",
        "def word_splitter(df):\n",
        "   ef word_splitter(df):\n",
        "    # create new data frame\n",
        "    df_new = df.copy()\n",
        "\n",
        "    # empty list to store tokens\n",
        "    tokens = []\n",
        "\n",
        "    # get tweets in list format\n",
        "    tweets = list(df['Tweets'])\n",
        "\n",
        "    # loop over tweets, tokenizing\n",
        "    for item in tweets:\n",
        "        tokens.append(item.lower().split())\n",
        "\n",
        "    # add tokens to new_df in a new column: 'Split Tweets'\n",
        "    df_new['Split Tweets'] = tokens\n",
        "\n",
        "    return df_new\n",
        "### END FUNCTION"
      ],
      "execution_count": 0,
      "outputs": []
    },
    {
      "cell_type": "code",
      "metadata": {
        "id": "FPP9sugQnEtL",
        "colab_type": "code",
        "colab": {}
      },
      "source": [
        "word_splitter(twitter_df.copy())"
      ],
      "execution_count": 0,
      "outputs": []
    },
    {
      "cell_type": "markdown",
      "metadata": {
        "colab_type": "text",
        "id": "_QtthCC44_6p"
      },
      "source": [
        "_**Expected Output**_:\n",
        "\n",
        "```python\n",
        "\n",
        "word_splitter(twitter_df.copy()) \n",
        "\n",
        "```\n",
        "\n",
        "> <table class=\"dataframe\" border=\"1\">\n",
        "  <thead>\n",
        "    <tr style=\"text-align: right;\">\n",
        "      <th></th>\n",
        "      <th>Tweets</th>\n",
        "      <th>Date</th>\n",
        "      <th>Split Tweets</th>\n",
        "    </tr>\n",
        "  </thead>\n",
        "  <tbody>\n",
        "    <tr>\n",
        "      <th>0</th>\n",
        "      <td>@BongaDlulane Please send an email to mediades...</td>\n",
        "      <td>2019-11-29 12:50:54</td>\n",
        "      <td>[@bongadlulane, please, send, an, email, to, m...</td>\n",
        "    </tr>\n",
        "    <tr>\n",
        "      <th>1</th>\n",
        "      <td>@saucy_mamiie Pls log a call on 0860037566</td>\n",
        "      <td>2019-11-29 12:46:53</td>\n",
        "      <td>[@saucy_mamiie, pls, log, a, call, on, 0860037...</td>\n",
        "    </tr>\n",
        "    <tr>\n",
        "      <th>2</th>\n",
        "      <td>@BongaDlulane Query escalated to media desk.</td>\n",
        "      <td>2019-11-29 12:46:10</td>\n",
        "      <td>[@bongadlulane, query, escalated, to, media, d...</td>\n",
        "    </tr>\n",
        "    <tr>\n",
        "      <th>3</th>\n",
        "      <td>Before leaving the office this afternoon, head...</td>\n",
        "      <td>2019-11-29 12:33:36</td>\n",
        "      <td>[before, leaving, the, office, this, afternoon...</td>\n",
        "    </tr>\n",
        "    <tr>\n",
        "      <th>4</th>\n",
        "      <td>#ESKOMFREESTATE #MEDIASTATEMENT : ESKOM SUSPEN...</td>\n",
        "      <td>2019-11-29 12:17:43</td>\n",
        "      <td>[#eskomfreestate, #mediastatement, :, eskom, s...</td>\n",
        "    </tr>\n",
        "    <tr>\n",
        "      <th>...</th>\n",
        "      <td>...</td>\n",
        "      <td>...</td>\n",
        "      <td>...</td>\n",
        "    </tr>\n",
        "    <tr>\n",
        "      <th>195</th>\n",
        "      <td>Eskom's Visitors Centresâ€™ facilities include i...</td>\n",
        "      <td>2019-11-20 10:29:07</td>\n",
        "      <td>[eskom's, visitors, centresâ€™, facilities, incl...</td>\n",
        "    </tr>\n",
        "    <tr>\n",
        "      <th>196</th>\n",
        "      <td>#Eskom connected 400 houses and in the process...</td>\n",
        "      <td>2019-11-20 10:25:20</td>\n",
        "      <td>[#eskom, connected, 400, houses, and, in, the,...</td>\n",
        "    </tr>\n",
        "    <tr>\n",
        "      <th>197</th>\n",
        "      <td>@ArthurGodbeer Is the power restored as yet?</td>\n",
        "      <td>2019-11-20 10:07:59</td>\n",
        "      <td>[@arthurgodbeer, is, the, power, restored, as,...</td>\n",
        "    </tr>\n",
        "    <tr>\n",
        "      <th>198</th>\n",
        "      <td>@MuthambiPaulina @SABCNewsOnline @IOL @eNCA @e...</td>\n",
        "      <td>2019-11-20 10:07:41</td>\n",
        "      <td>[@muthambipaulina, @sabcnewsonline, @iol, @enc...</td>\n",
        "    </tr>\n",
        "    <tr>\n",
        "      <th>199</th>\n",
        "      <td>RT @GP_DHS: The @GautengProvince made a commit...</td>\n",
        "      <td>2019-11-20 10:00:09</td>\n",
        "      <td>[rt, @gp_dhs:, the, @gautengprovince, made, a,...</td>\n",
        "    </tr>\n",
        "  </tbody>\n",
        "</table>"
      ]
    },
    {
      "cell_type": "markdown",
      "metadata": {
        "colab_type": "text",
        "id": "r-L3kWZh5DvM"
      },
      "source": [
        "# Function 7: Stop Words\n",
        "\n",
        "Write a function which removes english stop words from a tweet.\n",
        "\n",
        "**Function Specifications:**\n",
        "- It should take a pandas dataframe as input.\n",
        "- Should tokenise the sentences according to the definition in function 6. Note that function 6 **cannot be called within this function**.\n",
        "- Should remove all stop words in the tokenised list. The stopwords are defined in the `stop_words_dict` variable defined at the top of this notebook.\n",
        "- The resulting tokenised list should be placed in a column named `\"Without Stop Words\"`.\n",
        "- The function should modify the input dataframe.\n",
        "- The function should return the modified dataframe.\n"
      ]
    },
    {
      "cell_type": "code",
      "metadata": {
        "colab_type": "code",
        "id": "qCZnUoU64mVj",
        "colab": {}
      },
      "source": [
        "### START FUNCTION\n",
        "def stop_words_remover(df):\n",
        "    def stop_words_remover(df):\n",
        "    # copy df into a new data frame: df_new\n",
        "    df_new = df.copy()\n",
        "\n",
        "    # empty list to store tokens\n",
        "    tokens = []\n",
        "\n",
        "    # get tweets in list format\n",
        "    tweets = list(df['Tweets'])\n",
        "\n",
        "    # loop over tweets, tokenizing and removing stopwords\n",
        "    for item in tweets:\n",
        "      tok = item.lower().split()\n",
        "      tokens.append([i for i in tok if i not in stop_words_dict['stopwords']])\n",
        "\n",
        "    # add tokens to new_df in a new column: 'Split Tweets'\n",
        "    df_new['Without Stop Words'] = tokens\n",
        "\n",
        "    return df_new\n",
        "\n",
        "### END FUNCTION"
      ],
      "execution_count": 0,
      "outputs": []
    },
    {
      "cell_type": "code",
      "metadata": {
        "id": "I5ldhsfDnEtW",
        "colab_type": "code",
        "colab": {}
      },
      "source": [
        "stop_words_remover(twitter_df.copy())"
      ],
      "execution_count": 0,
      "outputs": []
    },
    {
      "cell_type": "markdown",
      "metadata": {
        "colab_type": "text",
        "id": "DGzO-tYv5O0N"
      },
      "source": [
        "_**Expected Output**_:\n",
        "\n",
        "Specific rows:\n",
        "\n",
        "```python\n",
        "stop_words_remover(twitter_df.copy()).loc[0, \"Without Stop Words\"] == ['@bongadlulane', 'send', 'email', 'mediadesk@eskom.co.za']\n",
        "stop_words_remover(twitter_df.copy()).loc[100, \"Without Stop Words\"] == ['#eskomnorthwest', '#mediastatement', ':', 'notice', 'supply', 'interruption', 'lichtenburg', 'area', 'https://t.co/7hfwvxllit']\n",
        "```\n",
        "\n",
        "Whole table:\n",
        "```python\n",
        "stop_words_remover(twitter_df.copy())\n",
        "```\n",
        "\n",
        "> <table class=\"dataframe\" border=\"1\">\n",
        "  <thead>\n",
        "    <tr style=\"text-align: right;\">\n",
        "      <th></th>\n",
        "      <th>Tweets</th>\n",
        "      <th>Date</th>\n",
        "      <th>Without Stop Words</th>\n",
        "    </tr>\n",
        "  </thead>\n",
        "  <tbody>\n",
        "    <tr>\n",
        "      <th>0</th>\n",
        "      <td>@BongaDlulane Please send an email to mediades...</td>\n",
        "      <td>2019-11-29 12:50:54</td>\n",
        "      <td>[@bongadlulane, send, email, mediadesk@eskom.c...</td>\n",
        "    </tr>\n",
        "    <tr>\n",
        "      <th>1</th>\n",
        "      <td>@saucy_mamiie Pls log a call on 0860037566</td>\n",
        "      <td>2019-11-29 12:46:53</td>\n",
        "      <td>[@saucy_mamiie, pls, log, 0860037566]</td>\n",
        "    </tr>\n",
        "    <tr>\n",
        "      <th>2</th>\n",
        "      <td>@BongaDlulane Query escalated to media desk.</td>\n",
        "      <td>2019-11-29 12:46:10</td>\n",
        "      <td>[@bongadlulane, query, escalated, media, desk.]</td>\n",
        "    </tr>\n",
        "    <tr>\n",
        "      <th>3</th>\n",
        "      <td>Before leaving the office this afternoon, head...</td>\n",
        "      <td>2019-11-29 12:33:36</td>\n",
        "      <td>[leaving, office, afternoon,, heading, weekend...</td>\n",
        "    </tr>\n",
        "    <tr>\n",
        "      <th>4</th>\n",
        "      <td>#ESKOMFREESTATE #MEDIASTATEMENT : ESKOM SUSPEN...</td>\n",
        "      <td>2019-11-29 12:17:43</td>\n",
        "      <td>[#eskomfreestate, #mediastatement, :, eskom, s...</td>\n",
        "    </tr>\n",
        "    <tr>\n",
        "      <th>...</th>\n",
        "      <td>...</td>\n",
        "      <td>...</td>\n",
        "      <td>...</td>\n",
        "    </tr>\n",
        "    <tr>\n",
        "      <th>195</th>\n",
        "      <td>Eskom's Visitors Centresâ€™ facilities include i...</td>\n",
        "      <td>2019-11-20 10:29:07</td>\n",
        "      <td>[eskom's, visitors, centresâ€™, facilities, incl...</td>\n",
        "    </tr>\n",
        "    <tr>\n",
        "      <th>196</th>\n",
        "      <td>#Eskom connected 400 houses and in the process...</td>\n",
        "      <td>2019-11-20 10:25:20</td>\n",
        "      <td>[#eskom, connected, 400, houses, process, conn...</td>\n",
        "    </tr>\n",
        "    <tr>\n",
        "      <th>197</th>\n",
        "      <td>@ArthurGodbeer Is the power restored as yet?</td>\n",
        "      <td>2019-11-20 10:07:59</td>\n",
        "      <td>[@arthurgodbeer, power, restored, yet?]</td>\n",
        "    </tr>\n",
        "    <tr>\n",
        "      <th>198</th>\n",
        "      <td>@MuthambiPaulina @SABCNewsOnline @IOL @eNCA @e...</td>\n",
        "      <td>2019-11-20 10:07:41</td>\n",
        "      <td>[@muthambipaulina, @sabcnewsonline, @iol, @enc...</td>\n",
        "    </tr>\n",
        "    <tr>\n",
        "      <th>199</th>\n",
        "      <td>RT @GP_DHS: The @GautengProvince made a commit...</td>\n",
        "      <td>2019-11-20 10:00:09</td>\n",
        "      <td>[rt, @gp_dhs:, @gautengprovince, commitment, e...</td>\n",
        "    </tr>\n",
        "  </tbody>\n",
        "</table>"
      ]
    },
    {
      "cell_type": "code",
      "metadata": {
        "id": "dPkUGXR3nEta",
        "colab_type": "code",
        "colab": {}
      },
      "source": [
        ""
      ],
      "execution_count": 0,
      "outputs": []
    }
  ]
}