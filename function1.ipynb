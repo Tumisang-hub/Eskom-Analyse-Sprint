{
  "nbformat": 4,
  "nbformat_minor": 0,
  "metadata": {
    "colab": {
      "name": "function1.ipynb",
      "provenance": [],
      "authorship_tag": "ABX9TyN89Hi0Dy7gLpoblCaUKZRY",
      "include_colab_link": true
    },
    "kernelspec": {
      "name": "python3",
      "display_name": "Python 3"
    }
  },
  "cells": [
    {
      "cell_type": "markdown",
      "metadata": {
        "id": "view-in-github",
        "colab_type": "text"
      },
      "source": [
        "<a href=\"https://colab.research.google.com/github/Tumisang-hub/Eskom-Analyse-Sprint/blob/master/function1.ipynb\" target=\"_parent\"><img src=\"https://colab.research.google.com/assets/colab-badge.svg\" alt=\"Open In Colab\"/></a>"
      ]
    },
    {
      "cell_type": "markdown",
      "metadata": {
        "colab_type": "text",
        "id": "uLLfADfm3qAN"
      },
      "source": [
        "## Function 1: Metric Dictionary\n",
        "\n",
        "Write a function that calculates the mean, median, variance, standard deviation, minimum and maximum of of list of items. You can assume the given list is contains only numerical entries, and you may use numpy functions to do this.\n",
        "\n",
        "**Function Specifications:**\n",
        "- Function should allow a list as input.\n",
        "- It should return a `dict` with keys `'mean'`, `'median'`, `'std'`, `'var'`, `'min'`, and `'max'`, corresponding to the mean, median, standard deviation, variance, minimum and maximum of the input list, respectively.\n",
        "- The standard deviation and variance values must be unbiased. **Hint:** use the `ddof` parameter in the corresponding numpy functions!\n",
        "- All values in the returned `dict` should be rounded to 2 decimal places."
      ]
    },
    {
      "cell_type": "code",
      "metadata": {
        "id": "ydXG71hAUcnu",
        "colab_type": "code",
        "colab": {}
      },
      "source": [
        "### START FUNCTION\n",
        "def dictionary_of_metrics(items):\n",
        "    # your code here\n",
        "    return\n",
        "\n",
        "### END FUNCTION"
      ],
      "execution_count": 0,
      "outputs": []
    },
    {
      "cell_type": "code",
      "metadata": {
        "id": "LZyKC3uCVDF0",
        "colab_type": "code",
        "colab": {}
      },
      "source": [
        "dictionary_of_metrics(gauteng)"
      ],
      "execution_count": 0,
      "outputs": []
    }
  ]
}